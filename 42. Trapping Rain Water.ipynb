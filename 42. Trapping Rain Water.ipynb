{
 "cells": [
  {
   "cell_type": "code",
   "execution_count": 2,
   "metadata": {},
   "outputs": [],
   "source": [
    "from typing import List"
   ]
  },
  {
   "cell_type": "code",
   "execution_count": 3,
   "metadata": {},
   "outputs": [],
   "source": [
    "class Solution:\n",
    "    def trap(self, height: List[int]) -> int:\n",
    "        total = 0\n",
    "        for i in range(1,len(height)-1) :\n",
    "\n",
    "            left = max(height[:i])\n",
    "            right = max(height[i+1:])\n",
    "\n",
    "            if height[i] < left and height[i] < right : # On n'est pas dans l\"eau\n",
    "                total += min(left,right) - height[i]\n",
    "                \n",
    "        return total"
   ]
  },
  {
   "cell_type": "code",
   "execution_count": 24,
   "metadata": {},
   "outputs": [
    {
     "data": {
      "text/plain": [
       "6"
      ]
     },
     "execution_count": 24,
     "metadata": {},
     "output_type": "execute_result"
    }
   ],
   "source": [
    "class Solution: # Solution leetCode, à retravailler\n",
    "    def trap(self, height: List[int]) -> int:\n",
    "        if not height:\n",
    "            return 0\n",
    "\n",
    "        res = 0\n",
    "        l, r = 0, len(height)-1\n",
    "        leftMax, rightMax = height[l], height[r]\n",
    "        while l < r :\n",
    "            if leftMax < rightMax :\n",
    "                l += 1\n",
    "                leftMax = max(leftMax, height[l])\n",
    "                res += leftMax - height[l]\n",
    "            else :\n",
    "                r -= 1\n",
    "                rightMax = max(rightMax, height[r])\n",
    "                res += rightMax - height[r]\n",
    "\n",
    "        return res\n",
    "\n",
    "height = [4,2,0,3,2,5] #OK\n",
    "height = [0,1,0,2,1,0,1,3,2,1,2,1]\n",
    "\n",
    "Solution().trap(height)\n",
    "            "
   ]
  }
 ],
 "metadata": {
  "kernelspec": {
   "display_name": "bootcamp",
   "language": "python",
   "name": "python3"
  },
  "language_info": {
   "codemirror_mode": {
    "name": "ipython",
    "version": 3
   },
   "file_extension": ".py",
   "mimetype": "text/x-python",
   "name": "python",
   "nbconvert_exporter": "python",
   "pygments_lexer": "ipython3",
   "version": "3.10.10"
  }
 },
 "nbformat": 4,
 "nbformat_minor": 2
}
