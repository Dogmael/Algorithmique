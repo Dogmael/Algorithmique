{
 "cells": [
  {
   "cell_type": "code",
   "execution_count": 7,
   "metadata": {},
   "outputs": [
    {
     "data": {
      "text/plain": [
       "[['a']]"
      ]
     },
     "execution_count": 7,
     "metadata": {},
     "output_type": "execute_result"
    }
   ],
   "source": [
    "#Fonctionne mais très lent\n",
    "\n",
    "def groupAnagrams(strs) :\n",
    "    result = []\n",
    "\n",
    "    for str in strs :\n",
    "        hashmap = dict()\n",
    "        for char in str : #generate hashmap\n",
    "            if char in hashmap :\n",
    "                hashmap[char] +=1\n",
    "            else :\n",
    "                hashmap[char] = 1\n",
    "        \n",
    "        flag = True\n",
    "        for item in result :\n",
    "            if item[0] == hashmap :\n",
    "                item.append(str)\n",
    "                flag = False\n",
    "                break\n",
    "        if flag :\n",
    "            result.append([hashmap,str])\n",
    "    \n",
    "    #Attention ne pas faire ça, item.pop(0) retourne ce qu'il a supprimé !!!!!!\n",
    "    # for indice, item in enumerate(result) :\n",
    "    #     result[indice] = item.pop(0) \n",
    "\n",
    "    for item in result :\n",
    "        item.pop(0)\n",
    "\n",
    "    return result\n",
    "\n",
    "groupAnagrams([\"eat\",\"tea\",\"tan\",\"ate\",\"nat\",\"bat\"])\n",
    "groupAnagrams([\"a\"])"
   ]
  },
  {
   "cell_type": "code",
   "execution_count": 10,
   "metadata": {},
   "outputs": [
    {
     "name": "stdout",
     "output_type": "stream",
     "text": [
      "aet\n"
     ]
    }
   ],
   "source": [
    "#Idée : Pour grouper les éléments on va trier leur lettre dans l'ordre alphabétique et s'en servir de clef.\n",
    "\n",
    "str = \"eat\"\n",
    "\n",
    "str_sort = \"\".join(sorted([char for char in str]))\n",
    "print(str_sort)"
   ]
  },
  {
   "cell_type": "code",
   "execution_count": 17,
   "metadata": {},
   "outputs": [
    {
     "data": {
      "text/plain": [
       "[['eat', 'tea', 'ate'], ['tan', 'nat'], ['bat']]"
      ]
     },
     "execution_count": 17,
     "metadata": {},
     "output_type": "execute_result"
    }
   ],
   "source": [
    "def groupAnagrams(strs) :\n",
    "    haspmap = dict()\n",
    "\n",
    "    for str in strs :\n",
    "        str_sort = \"\".join(sorted([char for char in str])) #Interessant !!\n",
    "        \n",
    "        if str_sort in haspmap :\n",
    "                haspmap[str_sort].append(str)\n",
    "        else :\n",
    "             haspmap[str_sort] = [str]\n",
    "\n",
    "    result = []\n",
    "    for item in haspmap.values() :\n",
    "        result.append(item) \n",
    "\n",
    "    return result\n",
    "\n",
    "groupAnagrams([\"eat\",\"tea\",\"tan\",\"ate\",\"nat\",\"bat\"])\n",
    "# groupAnagrams([\"a\"])"
   ]
  }
 ],
 "metadata": {
  "kernelspec": {
   "display_name": "bootcamp",
   "language": "python",
   "name": "python3"
  },
  "language_info": {
   "codemirror_mode": {
    "name": "ipython",
    "version": 3
   },
   "file_extension": ".py",
   "mimetype": "text/x-python",
   "name": "python",
   "nbconvert_exporter": "python",
   "pygments_lexer": "ipython3",
   "version": "3.10.10"
  }
 },
 "nbformat": 4,
 "nbformat_minor": 2
}
