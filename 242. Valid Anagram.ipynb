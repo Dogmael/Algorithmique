{
 "cells": [
  {
   "cell_type": "code",
   "execution_count": 4,
   "metadata": {},
   "outputs": [
    {
     "data": {
      "text/plain": [
       "True"
      ]
     },
     "execution_count": 4,
     "metadata": {},
     "output_type": "execute_result"
    }
   ],
   "source": [
    "def isAnagram(s, t):\n",
    "    \"\"\"\n",
    "    :type s: str\n",
    "    :type t: str\n",
    "    :rtype: bool\n",
    "    \"\"\"\n",
    "    if len(s) != len(t) :\n",
    "        return False\n",
    "    \n",
    "    hash_s = dict()\n",
    "    hash_t = dict()\n",
    "\n",
    "    for char_s, char_t in zip(s, t) :\n",
    "        if char_s in hash_s :\n",
    "            hash_s[char_s] += 1\n",
    "        else :\n",
    "            hash_s[char_s] = 1\n",
    "        if char_t in hash_t :\n",
    "            hash_t[char_t] += 1\n",
    "        else :\n",
    "            hash_t[char_t] = 1\n",
    "    if hash_s == hash_t :\n",
    "        return True\n",
    "    else :\n",
    "        return False\n",
    "        \n",
    "isAnagram(\"anagram\",\"nagaram\")"
   ]
  }
 ],
 "metadata": {
  "kernelspec": {
   "display_name": "bootcamp",
   "language": "python",
   "name": "python3"
  },
  "language_info": {
   "codemirror_mode": {
    "name": "ipython",
    "version": 3
   },
   "file_extension": ".py",
   "mimetype": "text/x-python",
   "name": "python",
   "nbconvert_exporter": "python",
   "pygments_lexer": "ipython3",
   "version": "3.10.10"
  }
 },
 "nbformat": 4,
 "nbformat_minor": 2
}
