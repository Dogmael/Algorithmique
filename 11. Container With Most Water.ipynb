{
 "cells": [
  {
   "cell_type": "code",
   "execution_count": 2,
   "metadata": {},
   "outputs": [],
   "source": [
    "from typing import *\n",
    "from math import *"
   ]
  },
  {
   "cell_type": "code",
   "execution_count": 25,
   "metadata": {},
   "outputs": [
    {
     "data": {
      "text/plain": [
       "17"
      ]
     },
     "execution_count": 25,
     "metadata": {},
     "output_type": "execute_result"
    }
   ],
   "source": [
    "class Solution:\n",
    "    def maxArea(self, height: List[int]) -> int:\n",
    "        i,j = 0, len(height)-1\n",
    "        s = (j-i)*min(height[i],height[j])\n",
    "\n",
    "        while j - i > 1 :\n",
    "            if height[i] < height[j] :\n",
    "                i += 1\n",
    "            else : \n",
    "                j -= 1\n",
    "            new_s = (j-i)*min(height[i],height[j])\n",
    "            if new_s > s :\n",
    "                s = new_s\n",
    "        return s\n",
    "\n",
    "        \n",
    "\n",
    "\n",
    "height = [1,8,6,2,5,4,8,3,7]\n",
    "height = [1,1]\n",
    "height = [4,3,2,1,4]\n",
    "height = [1,2,4,3]\n",
    "height = [2,3,4,5,18,17,6]\n",
    "\n",
    "\n",
    "Solution().maxArea(height)"
   ]
  },
  {
   "cell_type": "code",
   "execution_count": null,
   "metadata": {},
   "outputs": [],
   "source": [
    "class Solution:\n",
    "    def maxArea(self, height: List[int]) -> int:\n",
    "        i,j = 0, len(height)-1\n",
    "        max_i, max_j = height[i],height[j]\n",
    "        s = (j-i)*min(height[i],height[j])\n",
    "\n",
    "        while j - i > 1 :\n",
    "            if height[i] < height[j] :\n",
    "                i += 1\n",
    "                if height[i] > max_i :\n",
    "                    max_i = height[i]\n",
    "            else : \n",
    "                j -= 1\n",
    "            new_s = (j-i)*min(height[i],height[j])\n",
    "            if new_s > s :\n",
    "                s = new_s\n",
    "        return s\n",
    "\n",
    "        \n",
    "\n",
    "\n",
    "height = [1,8,6,2,5,4,8,3,7]\n",
    "height = [1,1]\n",
    "height = [4,3,2,1,4]\n",
    "height = [1,2,4,3]\n",
    "height = [2,3,4,5,18,17,6]\n",
    "\n",
    "\n",
    "Solution().maxArea(height)"
   ]
  },
  {
   "cell_type": "markdown",
   "metadata": {},
   "source": [
    "### Proposition initial -> rester simple !!!!!"
   ]
  },
  {
   "cell_type": "code",
   "execution_count": null,
   "metadata": {},
   "outputs": [],
   "source": [
    "class Solution:\n",
    "    def maxArea(self, height: List[int]) -> int:\n",
    "        i,j = 0, len(height)-1\n",
    "        s = (j-i)*min(height[i],height[j])\n",
    "\n",
    "        while True :\n",
    "            if j-i <= 2 :\n",
    "                return s\n",
    "            if height[i] < height[j] : #i est notre botle neck\n",
    "                for k in range(i+1,j) :\n",
    "                    if height[k] > height[i] :\n",
    "                        i = k\n",
    "                        s_new = (j-i)*min(height[i],height[j])\n",
    "                        if s_new <= s :\n",
    "                            return s\n",
    "                        s = s_new\n",
    "                        break\n",
    "                    elif k == j - 2 :\n",
    "                        return s\n",
    "\n",
    "            elif height[j] < height[j] : #j est notre bottle neck\n",
    "                for k in range(j-1,i+1,-1) :\n",
    "                    if height[k] > height[j] :\n",
    "                        j = k\n",
    "                        s_new = (j-i)*min(height[i],height[j])\n",
    "                        if s_new <= s :\n",
    "                            return s\n",
    "                        s = s_new\n",
    "                        break\n",
    "                    elif k == i :\n",
    "                        return s\n",
    "                    \n",
    "            else :\n",
    "                return s"
   ]
  },
  {
   "cell_type": "code",
   "execution_count": null,
   "metadata": {},
   "outputs": [],
   "source": []
  }
 ],
 "metadata": {
  "kernelspec": {
   "display_name": "bootcamp",
   "language": "python",
   "name": "python3"
  },
  "language_info": {
   "codemirror_mode": {
    "name": "ipython",
    "version": 3
   },
   "file_extension": ".py",
   "mimetype": "text/x-python",
   "name": "python",
   "nbconvert_exporter": "python",
   "pygments_lexer": "ipython3",
   "version": "3.10.10"
  }
 },
 "nbformat": 4,
 "nbformat_minor": 2
}
