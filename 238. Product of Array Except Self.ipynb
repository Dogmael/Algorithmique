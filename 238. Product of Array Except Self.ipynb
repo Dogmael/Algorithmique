{
 "cells": [
  {
   "cell_type": "code",
   "execution_count": 26,
   "metadata": {},
   "outputs": [
    {
     "data": {
      "text/plain": [
       "[0, 0, 9, 0, 0]"
      ]
     },
     "execution_count": 26,
     "metadata": {},
     "output_type": "execute_result"
    }
   ],
   "source": [
    "def productExceptSelf(nums):\n",
    "    left = []\n",
    "    right = []\n",
    "\n",
    "    for num in nums[:-1] :\n",
    "        if left == []:\n",
    "            left.append(num)\n",
    "        else :\n",
    "            left.append(num*left[-1])\n",
    "        \n",
    "    for num in reversed(nums[1:]) :\n",
    "        if right == []:\n",
    "            right.append(num)\n",
    "        else :\n",
    "            right.append(num*right[-1])\n",
    "\n",
    "    right.reverse()\n",
    "        \n",
    "    result = []\n",
    "\n",
    "    for i in range(len(nums) -1) :\n",
    "        if i == 0 :\n",
    "            result.append(right[i])\n",
    "        if i == len(nums) - 2 : \n",
    "            result.append(left[i])\n",
    "        else :\n",
    "            result.append(right[i+1]*left[i])\n",
    "\n",
    "    return result\n",
    "\n",
    "\n",
    "nums = [1,2,3,4]\n",
    "nums = [-1,1,0,-3,3]\n",
    "\n",
    "\n",
    "productExceptSelf(nums)"
   ]
  },
  {
   "cell_type": "code",
   "execution_count": 27,
   "metadata": {},
   "outputs": [
    {
     "data": {
      "text/plain": [
       "[0, 0, 9, 0, 0]"
      ]
     },
     "execution_count": 27,
     "metadata": {},
     "output_type": "execute_result"
    }
   ],
   "source": [
    "#Tentative d'optimisation, beaucoup plus lent!! \n",
    "\n",
    "\n",
    "def productExceptSelf(nums):\n",
    "    left = []\n",
    "    right = []\n",
    "\n",
    "    for i in range(len(nums)) :\n",
    "        if i == 0 :\n",
    "            left.append(nums[i])\n",
    "        elif i == len(nums) -1 :\n",
    "            right.append(1)\n",
    "            right = [item*nums[i] for item in right]\n",
    "        else :\n",
    "            left.append(nums[i]*left[-1])\n",
    "            right.append(1)\n",
    "            right = [item*nums[i] for item in right]\n",
    "        \n",
    "    result = []\n",
    "\n",
    "    for i in range(len(nums) -1) :\n",
    "        if i == 0 :\n",
    "            result.append(right[i])\n",
    "        if i == len(nums) - 2 : \n",
    "            result.append(left[i])\n",
    "        else :\n",
    "            result.append(right[i+1]*left[i])\n",
    "\n",
    "    return result\n",
    "\n",
    "\n",
    "nums = [1,2,3,4]\n",
    "nums = [-1,1,0,-3,3]\n",
    "\n",
    "productExceptSelf(nums)"
   ]
  },
  {
   "cell_type": "code",
   "execution_count": null,
   "metadata": {},
   "outputs": [],
   "source": [
    "#Meilleur\n",
    "\n",
    "def productExceptSelf(nums):\n",
    "    res=[1]* (len(nums))\n",
    "\n",
    "    prefix = 1\n",
    "    for i in range(len(nums)):\n",
    "        res[i] = prefix \n",
    "        prefix *=nums[i]\n",
    "    postfix = 1\n",
    "    for i in range(len(nums)-1,-1,-1):\n",
    "        res[i] *=postfix\n",
    "        postfix *=nums[i]\n",
    "\n",
    "    return res"
   ]
  }
 ],
 "metadata": {
  "kernelspec": {
   "display_name": "bootcamp",
   "language": "python",
   "name": "python3"
  },
  "language_info": {
   "codemirror_mode": {
    "name": "ipython",
    "version": 3
   },
   "file_extension": ".py",
   "mimetype": "text/x-python",
   "name": "python",
   "nbconvert_exporter": "python",
   "pygments_lexer": "ipython3",
   "version": "3.10.10"
  }
 },
 "nbformat": 4,
 "nbformat_minor": 2
}
