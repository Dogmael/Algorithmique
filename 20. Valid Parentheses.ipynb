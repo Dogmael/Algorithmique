{
 "cells": [
  {
   "cell_type": "code",
   "execution_count": null,
   "metadata": {},
   "outputs": [],
   "source": [
    "class Solution:\n",
    "    def isValid(self, s: str) -> bool:\n",
    "        stack = []\n",
    "\n",
    "        for char in s :\n",
    "            if char in [\"(\",\"{\",\"[\"] :\n",
    "                stack.append(char)\n",
    "            else : \n",
    "                if stack == [] :\n",
    "                    return False\n",
    "                match char :\n",
    "                    case \")\" :\n",
    "                        if stack[-1] == \"(\" :\n",
    "                            stack.pop(-1)\n",
    "                        else :\n",
    "                            return False\n",
    "                    case \"}\" :\n",
    "                        if stack[-1] == \"{\" :\n",
    "                            stack.pop(-1)\n",
    "                        else : \n",
    "                            return False\n",
    "                    case \"]\" :\n",
    "                        if stack[-1] == \"[\" :\n",
    "                            stack.pop(-1)\n",
    "                        else : \n",
    "                            return False\n",
    "        \n",
    "        if stack != [] :\n",
    "            return False\n",
    "        else : \n",
    "            return True"
   ]
  }
 ],
 "metadata": {
  "kernelspec": {
   "display_name": "bootcamp",
   "language": "python",
   "name": "python3"
  },
  "language_info": {
   "name": "python",
   "version": "3.10.10"
  }
 },
 "nbformat": 4,
 "nbformat_minor": 2
}
