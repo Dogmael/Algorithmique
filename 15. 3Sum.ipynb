{
 "cells": [
  {
   "cell_type": "code",
   "execution_count": 2,
   "metadata": {},
   "outputs": [],
   "source": [
    "from typing import List"
   ]
  },
  {
   "cell_type": "code",
   "execution_count": 69,
   "metadata": {},
   "outputs": [],
   "source": [
    "class Solution: #fonctionel\n",
    "    def twoSum(self,target,nums) : #nums a sorted array of int\n",
    "        i,j = 0, len(nums) - 1\n",
    "        result = []\n",
    "        while i < j :\n",
    "            if nums[i] == nums[i-1] and i != 0:\n",
    "                i += 1\n",
    "                continue\n",
    "            elif j != len(nums)-1 and nums[j] == nums[j+1] :\n",
    "                j -= 1\n",
    "                continue\n",
    "\n",
    "            if nums[i] + nums[j] == target :\n",
    "                result.append((nums[i], nums[j]))\n",
    "                i += 1\n",
    "            elif nums[i] + nums[j] < target :\n",
    "                i += 1\n",
    "            else :\n",
    "                j -= 1\n",
    "        return result\n",
    "    \n",
    "    def threeSum(self, nums: List[int]) -> List[List[int]]:\n",
    "        nums.sort()\n",
    "        result = []\n",
    "        i = 0\n",
    "\n",
    "        while i < len(nums) - 1 :\n",
    "            if nums[i] == nums[i-1] and i != 0:\n",
    "                i += 1\n",
    "                continue\n",
    "            \n",
    "            target = - nums[i]\n",
    "            current_nums = nums[i+1:]\n",
    "\n",
    "            res = Solution.twoSum(self,target,current_nums)\n",
    "            if res != [] :\n",
    "                for item in res :\n",
    "                    result.append([-target,item[0],item[1]])\n",
    "\n",
    "            i += 1\n",
    "\n",
    "        return result"
   ]
  },
  {
   "cell_type": "markdown",
   "metadata": {},
   "source": [
    "### Optimisations\n",
    "\n",
    "1. Éviter les Vérifications Redondantes : Dans la boucle while de threeSum, vous vérifiez si les éléments restants sont tous positifs. Cette vérification peut être simplifiée ou éliminée car la nature triée de nums garantit que si nums[i] est positif, tous les éléments suivants le seront également.\n",
    "\n",
    "2. Optimiser la Fonction twoSum : Votre fonction twoSum semble déjà optimisée pour les tableaux triés, mais vous pouvez éliminer certaines vérifications redondantes pour améliorer encore les performances.\n",
    "\n",
    "3. Réduire les Appels de Fonction : Dans threeSum, vous appelez twoSum à chaque itération. Chaque appel de fonction a un coût, donc réduire le nombre d'appels peut améliorer les performances.\n",
    "\n",
    "4. Utiliser un Ensemble pour Éviter les Doublons : Au lieu d'utiliser une liste pour result, vous pouvez utiliser un ensemble pour stocker les triplets. Cela élimine la nécessité de vérifier les doublons.\n",
    "\n",
    "NB. : Tout rassembler en une seule méthode ne fait pas gagner significativement en temps d'exécution."
   ]
  },
  {
   "cell_type": "code",
   "execution_count": 3,
   "metadata": {},
   "outputs": [],
   "source": [
    "class Solution: #opti, faire cela en u\n",
    "    def twoSum(self,target,nums) : #nums a sorted array of int\n",
    "        i,j = 0, len(nums) - 1\n",
    "        result = set()\n",
    "        while i < j :\n",
    "            sum_ij = nums[i] + nums[j]\n",
    "            if sum_ij == target :\n",
    "                result.add((nums[i], nums[j]))\n",
    "                i += 1\n",
    "                j -= 1\n",
    "            elif nums[i] + nums[j] < target :\n",
    "                i += 1\n",
    "            else :\n",
    "                j -= 1\n",
    "        return result\n",
    "    \n",
    "    def threeSum(self, nums: List[int]) -> List[List[int]]:\n",
    "        nums.sort()\n",
    "        result = set()\n",
    "        i = 0\n",
    "\n",
    "        for i in range(len(nums)):\n",
    "            if nums[i] > 0 :\n",
    "                break\n",
    "            if nums[i] == nums[i-1] and i != 0:\n",
    "                continue\n",
    "            else :\n",
    "                for pair in self.twoSum(- nums[i],nums[i+1:]) :\n",
    "                        result.add((nums[i],)+pair)\n",
    "\n",
    "        return list(result)"
   ]
  },
  {
   "cell_type": "code",
   "execution_count": 4,
   "metadata": {},
   "outputs": [
    {
     "data": {
      "text/plain": [
       "[(-2, 1, 1)]"
      ]
     },
     "execution_count": 4,
     "metadata": {},
     "output_type": "execute_result"
    }
   ],
   "source": [
    "nums =  [-1,0,1,2,-1,-4]\n",
    "nums = [0,0,0,0]\n",
    "nums = [-2,0,0,2,2]\n",
    "nums = [1,1,-2]\n",
    "\n",
    "Solution().threeSum(nums)\n",
    "\n",
    "# Solution().twoSum(0,[0,2,2])"
   ]
  },
  {
   "cell_type": "code",
   "execution_count": 73,
   "metadata": {},
   "outputs": [
    {
     "data": {
      "text/plain": [
       "True"
      ]
     },
     "execution_count": 73,
     "metadata": {},
     "output_type": "execute_result"
    }
   ],
   "source": [
    "nums = [-2,0,0,2,2]\n",
    "any(num < 0 for num in nums) "
   ]
  }
 ],
 "metadata": {
  "kernelspec": {
   "display_name": "bootcamp",
   "language": "python",
   "name": "python3"
  },
  "language_info": {
   "codemirror_mode": {
    "name": "ipython",
    "version": 3
   },
   "file_extension": ".py",
   "mimetype": "text/x-python",
   "name": "python",
   "nbconvert_exporter": "python",
   "pygments_lexer": "ipython3",
   "version": "3.10.10"
  }
 },
 "nbformat": 4,
 "nbformat_minor": 2
}
