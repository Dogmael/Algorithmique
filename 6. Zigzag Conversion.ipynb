{
 "cells": [
  {
   "cell_type": "code",
   "execution_count": 92,
   "metadata": {},
   "outputs": [
    {
     "data": {
      "text/plain": [
       "'PINALSIGYAHRPI'"
      ]
     },
     "execution_count": 92,
     "metadata": {},
     "output_type": "execute_result"
    }
   ],
   "source": [
    "# First version\n",
    "\n",
    "def write_zigzag(s, numRows) :\n",
    "    result = []\n",
    "    cursor = 0\n",
    "    col = 0\n",
    "    \n",
    "    while cursor < len(s) :\n",
    "        #Descente\n",
    "        result.append(list(s[cursor:cursor+numRows]))\n",
    "        col += 1\n",
    "        cursor += numRows\n",
    "        row = numRows - 2 #1\n",
    "        \n",
    "\n",
    "        #Remonté\n",
    "        while row > 0 and cursor < len(s):\n",
    "            result.append([' ']*(row) + list(s[cursor]) + [' ']*(numRows - row -1 ))\n",
    "            cursor += 1\n",
    "            row -= 1\n",
    "            col += 1\n",
    "\n",
    "    retour = \"\"\n",
    "\n",
    "    for j in range(len(result[0])) :\n",
    "      for i in range(len(result)) : # ligne\n",
    "            try : \n",
    "                if result[i][j] != ' ':\n",
    "                    retour += result[i][j]\n",
    "            except : \n",
    "                break\n",
    "\n",
    "    return retour\n",
    "\n",
    "write_zigzag(s, 4)"
   ]
  },
  {
   "cell_type": "code",
   "execution_count": 8,
   "metadata": {},
   "outputs": [
    {
     "name": "stdout",
     "output_type": "stream",
     "text": [
      "1\n",
      "2\n",
      "3\n",
      "2\n",
      "1\n",
      "2\n",
      "3\n",
      "2\n",
      "1\n",
      "2\n"
     ]
    }
   ],
   "source": [
    "def write_zigzag(s, numRows) :\n",
    "    cursor = 0\n",
    "    row_number = 0\n",
    "    rows = [[]*numRows]\n",
    "    \n",
    "    while cursor < len(s) :\n",
    "        for row_number in range(1,numRows) :\n",
    "            if(cursor >= len(s)) :\n",
    "                break\n",
    "            print(row_number)\n",
    "            cursor += 1\n",
    "        for row_number in range(numRows,1,-1) :\n",
    "            if(cursor >= len(s)) :\n",
    "                break\n",
    "            print(row_number)\n",
    "            cursor += 1\n",
    "\n",
    "\n",
    "write_zigzag(\"\",3)"
   ]
  },
  {
   "cell_type": "code",
   "execution_count": 33,
   "metadata": {},
   "outputs": [
    {
     "data": {
      "text/plain": [
       "[['', 'A', 'B']]"
      ]
     },
     "execution_count": 33,
     "metadata": {},
     "output_type": "execute_result"
    }
   ],
   "source": [
    "def write_zigzag(s, numRows) :\n",
    "    row_num = 0\n",
    "    rows = [[] for i in range(numRows)]\n",
    "    \n",
    "    for char in s :\n",
    "        if row_num == numRows-1 :\n",
    "            move = -1\n",
    "        if row_num == 0 :\n",
    "            move = 1\n",
    "\n",
    "        rows[row_num].append(char)\n",
    "        if numRows != 1 :\n",
    "            row_num += move\n",
    "\n",
    "    return ''.join([''.join(row) for row in rows])\n",
    "\n",
    "write_zigzag(\"AB\",1)"
   ]
  },
  {
   "cell_type": "code",
   "execution_count": 44,
   "metadata": {},
   "outputs": [
    {
     "data": {
      "text/plain": [
       "'holelwrdlo'"
      ]
     },
     "execution_count": 44,
     "metadata": {},
     "output_type": "execute_result"
    }
   ],
   "source": [
    "#Optimisé\n",
    "\n",
    "def write_zigzag(s, numRows) :\n",
    "    if numRows == 1 or numRows >= len(s): #on sort ce cas particulier pour gagner en temps d'execution\n",
    "        return s\n",
    "\n",
    "    rows = ['']* numRows\n",
    "    row_num = 0\n",
    "    for char in s :\n",
    "        if row_num == numRows-1 :\n",
    "            move = -1\n",
    "        elif row_num == 0 : #elif plutôt qu'un deuxième if\n",
    "            move = 1\n",
    "\n",
    "        rows[row_num] += char\n",
    "        row_num += move\n",
    "\n",
    "    return ''.join(rows)\n",
    "\n",
    "write_zigzag(\"helloworld\",3)"
   ]
  }
 ],
 "metadata": {
  "kernelspec": {
   "display_name": "bootcamp",
   "language": "python",
   "name": "python3"
  },
  "language_info": {
   "codemirror_mode": {
    "name": "ipython",
    "version": 3
   },
   "file_extension": ".py",
   "mimetype": "text/x-python",
   "name": "python",
   "nbconvert_exporter": "python",
   "pygments_lexer": "ipython3",
   "version": "3.10.10"
  }
 },
 "nbformat": 4,
 "nbformat_minor": 2
}
