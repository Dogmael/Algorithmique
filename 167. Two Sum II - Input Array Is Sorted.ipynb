{
 "cells": [
  {
   "cell_type": "code",
   "execution_count": null,
   "metadata": {},
   "outputs": [],
   "source": [
    "from typing import List"
   ]
  },
  {
   "cell_type": "code",
   "execution_count": 7,
   "metadata": {},
   "outputs": [
    {
     "data": {
      "text/plain": [
       "[1, 2]"
      ]
     },
     "execution_count": 7,
     "metadata": {},
     "output_type": "execute_result"
    }
   ],
   "source": [
    "class Solution:\n",
    "    def twoSum(self, numbers: List[int], target: int) -> List[int]: # O(n^2)\n",
    "            \n",
    "            ln = len(numbers)\n",
    "            for i in range(ln) :\n",
    "                reste = target - numbers[i]\n",
    "                for j in range(i+1, ln) :\n",
    "                    if numbers[j] == reste :\n",
    "                        return [i+1,j+1]\n",
    "                    elif numbers[j] > reste :\n",
    "                        break"
   ]
  },
  {
   "cell_type": "code",
   "execution_count": 10,
   "metadata": {},
   "outputs": [
    {
     "data": {
      "text/plain": [
       "[0, 1]"
      ]
     },
     "execution_count": 10,
     "metadata": {},
     "output_type": "execute_result"
    }
   ],
   "source": [
    "class Solution:\n",
    "    def twoSum(self, numbers: List[int], target: int) -> List[int]: # O(n)\n",
    "            i = 0\n",
    "            j = len(numbers) -1\n",
    "            while i < j :\n",
    "                res = numbers[i] + numbers[j]\n",
    "                if res == target : \n",
    "                     return [i+1,j+1]\n",
    "                elif res < target :\n",
    "                     i += 1\n",
    "                else :\n",
    "                     j -=1"
   ]
  },
  {
   "cell_type": "code",
   "execution_count": null,
   "metadata": {},
   "outputs": [],
   "source": [
    "numbers = [2,3,4]\n",
    "target = 6\n",
    "numbers = [-1,0]\n",
    "target = -1\n",
    "numbers = [2,7,11,15]\n",
    "target = 9\n",
    "\n",
    "Solution().twoSum(numbers,target)"
   ]
  }
 ],
 "metadata": {
  "kernelspec": {
   "display_name": "bootcamp",
   "language": "python",
   "name": "python3"
  },
  "language_info": {
   "codemirror_mode": {
    "name": "ipython",
    "version": 3
   },
   "file_extension": ".py",
   "mimetype": "text/x-python",
   "name": "python",
   "nbconvert_exporter": "python",
   "pygments_lexer": "ipython3",
   "version": "3.10.10"
  }
 },
 "nbformat": 4,
 "nbformat_minor": 2
}
