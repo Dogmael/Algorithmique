{
 "cells": [
  {
   "cell_type": "code",
   "execution_count": null,
   "metadata": {},
   "outputs": [],
   "source": [
    "def twoSum(self, nums, target):\n",
    "    \"\"\"\n",
    "    :type nums: List[int]\n",
    "    :type target: int\n",
    "    :rtype: List[int]\n",
    "    \"\"\"\n",
    "    hashmap = dict()\n",
    "    \n",
    "    for indice, current in enumerate(nums) :\n",
    "        remain = target - current\n",
    "        if remain in hashmap :\n",
    "            return [indice,hashmap[remain]]\n",
    "        else :\n",
    "            hashmap[current] = indice"
   ]
  }
 ],
 "metadata": {
  "language_info": {
   "name": "python"
  }
 },
 "nbformat": 4,
 "nbformat_minor": 2
}
