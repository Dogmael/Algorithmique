{
 "cells": [
  {
   "cell_type": "code",
   "execution_count": 54,
   "metadata": {},
   "outputs": [
    {
     "data": {
      "text/plain": [
       "False"
      ]
     },
     "execution_count": 54,
     "metadata": {},
     "output_type": "execute_result"
    }
   ],
   "source": [
    "class Solution:\n",
    "    def isPalindrome(self, s: str) -> bool:\n",
    "\n",
    "        s = \"\".join([char for char in s.lower() if char.isalnum()])\n",
    "        length = len(s)\n",
    "\n",
    "        for i in range(length//2) :\n",
    "            if s[i] != s[length-i-1] :\n",
    "                return False\n",
    "        return True\n",
    "    \n",
    "str = \"0P\"\n",
    "Solution().isPalindrome(str)"
   ]
  },
  {
   "cell_type": "code",
   "execution_count": null,
   "metadata": {},
   "outputs": [],
   "source": [
    "#Optimisé\n",
    "\n",
    "class Solution:\n",
    "    def isPalindrome(self, s: str) -> bool:\n",
    "        s = \"\".join(char for char in s.lower() if char.isalnum()) #On évite les liste intermédiaire en utilisant une expression génératrice\n",
    "\n",
    "        length = len(s)\n",
    "        mid = length // 2\n",
    "\n",
    "        for i in range(mid):\n",
    "            if s[i] != s[length - i - 1]:\n",
    "                return False\n",
    "        return True"
   ]
  }
 ],
 "metadata": {
  "kernelspec": {
   "display_name": "bootcamp",
   "language": "python",
   "name": "python3"
  },
  "language_info": {
   "codemirror_mode": {
    "name": "ipython",
    "version": 3
   },
   "file_extension": ".py",
   "mimetype": "text/x-python",
   "name": "python",
   "nbconvert_exporter": "python",
   "pygments_lexer": "ipython3",
   "version": "3.10.10"
  }
 },
 "nbformat": 4,
 "nbformat_minor": 2
}
