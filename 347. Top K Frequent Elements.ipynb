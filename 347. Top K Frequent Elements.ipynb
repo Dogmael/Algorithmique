{
 "cells": [
  {
   "cell_type": "code",
   "execution_count": 1,
   "metadata": {},
   "outputs": [
    {
     "data": {
      "text/plain": [
       "[1, 2]"
      ]
     },
     "execution_count": 1,
     "metadata": {},
     "output_type": "execute_result"
    }
   ],
   "source": [
    "def topKFrequent(nums, k):\n",
    "    hashmap = dict()\n",
    "    for num in nums: \n",
    "        if num in hashmap :\n",
    "            hashmap[num] += 1\n",
    "        else :\n",
    "            hashmap[num] = 1\n",
    "    \n",
    "    return [k for k,v in sorted(hashmap.items(), key = lambda item : -item[1])][:k]\n",
    "\n",
    "nums = [1,1,1,2,2,3]\n",
    "k = 2\n",
    "\n",
    "topKFrequent(nums,k)"
   ]
  }
 ],
 "metadata": {
  "kernelspec": {
   "display_name": "bootcamp",
   "language": "python",
   "name": "python3"
  },
  "language_info": {
   "codemirror_mode": {
    "name": "ipython",
    "version": 3
   },
   "file_extension": ".py",
   "mimetype": "text/x-python",
   "name": "python",
   "nbconvert_exporter": "python",
   "pygments_lexer": "ipython3",
   "version": "3.10.10"
  }
 },
 "nbformat": 4,
 "nbformat_minor": 2
}
