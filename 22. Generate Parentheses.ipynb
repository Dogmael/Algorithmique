{
 "cells": [
  {
   "cell_type": "code",
   "execution_count": 4,
   "metadata": {},
   "outputs": [],
   "source": [
    "from typing import List"
   ]
  },
  {
   "cell_type": "code",
   "execution_count": 14,
   "metadata": {},
   "outputs": [
    {
     "data": {
      "text/plain": [
       "['((()))', '(()())', '(())()', '()(())', '()()()']"
      ]
     },
     "execution_count": 14,
     "metadata": {},
     "output_type": "execute_result"
    }
   ],
   "source": [
    "class Solution:\n",
    "    def generateParenthesis(self, n: int) -> List[str]:\n",
    "        result = []\n",
    "\n",
    "        def backprop(stack, openCount, closeCount) :\n",
    "            if openCount == closeCount == n :\n",
    "                result.append(\"\".join(stack))\n",
    "            \n",
    "            if openCount <= n :\n",
    "                stack.append(\"(\")\n",
    "                backprop(stack, openCount + 1, closeCount)\n",
    "                stack.pop()\n",
    "\n",
    "            if openCount > closeCount :\n",
    "                stack.append(\")\")\n",
    "                backprop(stack, openCount, closeCount + 1)\n",
    "                stack.pop() #utile -> OUI\n",
    "\n",
    "        backprop([], 0, 0)\n",
    "\n",
    "        return result\n",
    "\n",
    "n = 3\n",
    "\n",
    "Solution().generateParenthesis(n)"
   ]
  }
 ],
 "metadata": {
  "kernelspec": {
   "display_name": "bootcamp",
   "language": "python",
   "name": "python3"
  },
  "language_info": {
   "codemirror_mode": {
    "name": "ipython",
    "version": 3
   },
   "file_extension": ".py",
   "mimetype": "text/x-python",
   "name": "python",
   "nbconvert_exporter": "python",
   "pygments_lexer": "ipython3",
   "version": "3.10.10"
  }
 },
 "nbformat": 4,
 "nbformat_minor": 2
}
