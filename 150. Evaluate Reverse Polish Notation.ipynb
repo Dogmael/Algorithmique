{
 "cells": [
  {
   "cell_type": "code",
   "execution_count": 28,
   "metadata": {},
   "outputs": [],
   "source": [
    "from typing import List"
   ]
  },
  {
   "cell_type": "code",
   "execution_count": 41,
   "metadata": {},
   "outputs": [
    {
     "data": {
      "text/plain": [
       "22"
      ]
     },
     "execution_count": 41,
     "metadata": {},
     "output_type": "execute_result"
    }
   ],
   "source": [
    "class Solution:\n",
    "    def evalRPN(self, tokens: List[str]) -> int:\n",
    "        stack = []\n",
    "        for i in tokens :\n",
    "            if i in [\"+\",\"-\",\"/\",\"*\"] :\n",
    "                pass\n",
    "                match i :\n",
    "                    case \"+\" :\n",
    "                        stack[-2] = stack[-1] + stack[-2]\n",
    "                        stack.pop(-1)\n",
    "                    case \"-\" :\n",
    "                        stack[-2] = stack[-2] - stack[-1]\n",
    "                        stack.pop(-1)\n",
    "                    case \"*\" :\n",
    "                        stack[-2] = (stack[-2] * stack[-1])\n",
    "                        stack.pop(-1)\n",
    "                    case \"/\" :\n",
    "                        stack[-2] = int(stack[-2] / stack[-1])\n",
    "                        stack.pop(-1)   \n",
    "            else :\n",
    "                stack.append(int(i))\n",
    "        return stack[0]\n",
    "\n",
    "\n",
    "\n",
    "tokens = [\"4\",\"13\",\"5\",\"/\",\"+\"]\n",
    "tokens = [\"2\",\"1\",\"+\",\"3\",\"*\"]\n",
    "tokens = [\"4\",\"-2\",\"/\",\"2\",\"-3\",\"-\",\"-\"]\n",
    "tokens = [\"10\",\"6\",\"9\",\"3\",\"+\",\"-11\",\"*\",\"/\",\"*\",\"17\",\"+\",\"5\",\"+\"]\n",
    "\n",
    "Solution().evalRPN(tokens)"
   ]
  }
 ],
 "metadata": {
  "kernelspec": {
   "display_name": "bootcamp",
   "language": "python",
   "name": "python3"
  },
  "language_info": {
   "codemirror_mode": {
    "name": "ipython",
    "version": 3
   },
   "file_extension": ".py",
   "mimetype": "text/x-python",
   "name": "python",
   "nbconvert_exporter": "python",
   "pygments_lexer": "ipython3",
   "version": "3.10.10"
  }
 },
 "nbformat": 4,
 "nbformat_minor": 2
}
