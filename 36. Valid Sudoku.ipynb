{
 "cells": [
  {
   "cell_type": "code",
   "execution_count": 1,
   "metadata": {},
   "outputs": [
    {
     "data": {
      "text/plain": [
       "True"
      ]
     },
     "execution_count": 1,
     "metadata": {},
     "output_type": "execute_result"
    }
   ],
   "source": [
    "def isValidSudoku( board):\n",
    "\n",
    "    \n",
    "    dict_col = {i: () for i in range(9)}\n",
    "    dict_block = {(i,j): () for i in range(3) for j in range (3)}\n",
    "\n",
    "    for row_num, row in enumerate(board) : \n",
    "        set_row = ()\n",
    "\n",
    "        for col_num, item in enumerate(row) :\n",
    "            if item == \".\" :\n",
    "                continue #Skip current loop iteration\n",
    "            #Value range check\n",
    "            if int(item) not in range(1,10) :\n",
    "                return False\n",
    "            \n",
    "            #Row check\n",
    "            if int(item) in set_row : \n",
    "                return False\n",
    "            else :\n",
    "                set_row += (int(item),)\n",
    "\n",
    "            #Column check\n",
    "            if item in dict_col[col_num % 9] :\n",
    "                return False\n",
    "            else : \n",
    "                dict_col[col_num % 9] += (item,)\n",
    "\n",
    "            #Block check\n",
    "\n",
    "            if item in dict_block[(row_num//3, col_num//3)] :\n",
    "                return False\n",
    "            else : \n",
    "                dict_block[(row_num//3, col_num//3)] += (item,)\n",
    "\n",
    "    return True\n",
    "\n",
    "board = [[\"5\",\"3\",\".\",\".\",\"7\",\".\",\".\",\".\",\".\"]\n",
    ",[\"6\",\".\",\".\",\"1\",\"9\",\"5\",\".\",\".\",\".\"]\n",
    ",[\".\",\"9\",\"8\",\".\",\".\",\".\",\".\",\"6\",\".\"]\n",
    ",[\"8\",\".\",\".\",\".\",\"6\",\".\",\".\",\".\",\"3\"]\n",
    ",[\"4\",\".\",\".\",\"8\",\".\",\"3\",\".\",\".\",\"1\"]\n",
    ",[\"7\",\".\",\".\",\".\",\"2\",\".\",\".\",\".\",\"6\"]\n",
    ",[\".\",\"6\",\".\",\".\",\".\",\".\",\"2\",\"8\",\".\"]\n",
    ",[\".\",\".\",\".\",\"4\",\"1\",\"9\",\".\",\".\",\"5\"]\n",
    ",[\".\",\".\",\".\",\".\",\"8\",\".\",\".\",\"7\",\"9\"]]\n",
    "\n",
    "isValidSudoku(board)"
   ]
  },
  {
   "cell_type": "code",
   "execution_count": null,
   "metadata": {},
   "outputs": [],
   "source": [
    "#Sans enumerate, légèrement plus rapide\n",
    "\n",
    "def isValidSudoku(board):\n",
    "    dict_col = {i: () for i in range(9)}\n",
    "    dict_block = {(i, j): () for i in range(3) for j in range(3)}\n",
    "\n",
    "    for row_num in range(9):\n",
    "        set_row = ()\n",
    "\n",
    "        for col_num in range(9):\n",
    "            current_item = board[row_num][col_num]\n",
    "\n",
    "            if current_item == \".\":\n",
    "                continue  # Skip current loop iteration\n",
    "\n",
    "            # Value range check\n",
    "            if int(current_item) not in range(1, 10):\n",
    "                return False\n",
    "\n",
    "            # Row check\n",
    "            if int(current_item) in set_row:\n",
    "                return False\n",
    "            else:\n",
    "                set_row += (int(current_item),)\n",
    "\n",
    "            # Column check\n",
    "            if current_item in dict_col[col_num % 9]:\n",
    "                return False\n",
    "            else:\n",
    "                dict_col[col_num % 9] += (current_item,)\n",
    "\n",
    "            # Block check\n",
    "            if current_item in dict_block[(row_num // 3, col_num // 3)]:\n",
    "                return False\n",
    "            else:\n",
    "                dict_block[(row_num // 3, col_num // 3)] += (current_item,)\n",
    "\n",
    "    return True"
   ]
  }
 ],
 "metadata": {
  "kernelspec": {
   "display_name": "bootcamp",
   "language": "python",
   "name": "python3"
  },
  "language_info": {
   "codemirror_mode": {
    "name": "ipython",
    "version": 3
   },
   "file_extension": ".py",
   "mimetype": "text/x-python",
   "name": "python",
   "nbconvert_exporter": "python",
   "pygments_lexer": "ipython3",
   "version": "3.10.10"
  }
 },
 "nbformat": 4,
 "nbformat_minor": 2
}
