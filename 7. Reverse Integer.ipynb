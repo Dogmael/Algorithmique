{
 "cells": [
  {
   "cell_type": "code",
   "execution_count": null,
   "metadata": {},
   "outputs": [],
   "source": [
    "def reverse(n) :\n",
    "    reversed = 0\n",
    "    abs_n = abs(n)\n",
    "\n",
    "    while abs_n != 0 :\n",
    "        reversed = reversed * 10 + abs_n%10\n",
    "        if reversed > 2**31 :\n",
    "            return 0 #Overflow\n",
    "        abs_n = abs_n//10\n",
    "\n",
    "    if n == abs(n) :\n",
    "        return reversed\n",
    "    else :\n",
    "        return -reversed\n",
    "\n",
    "reverse(-1234567899999999999999)"
   ]
  }
 ],
 "metadata": {
  "kernelspec": {
   "display_name": "bootcamp",
   "language": "python",
   "name": "python3"
  },
  "language_info": {
   "codemirror_mode": {
    "name": "ipython",
    "version": 3
   },
   "file_extension": ".py",
   "mimetype": "text/x-python",
   "name": "python",
   "nbconvert_exporter": "python",
   "pygments_lexer": "ipython3",
   "version": "3.10.10"
  }
 },
 "nbformat": 4,
 "nbformat_minor": 2
}
