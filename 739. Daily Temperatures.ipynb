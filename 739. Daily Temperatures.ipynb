{
 "cells": [
  {
   "cell_type": "code",
   "execution_count": 3,
   "metadata": {},
   "outputs": [],
   "source": [
    "from typing import List"
   ]
  },
  {
   "cell_type": "markdown",
   "metadata": {},
   "source": [
    "#### Brute force"
   ]
  },
  {
   "cell_type": "code",
   "execution_count": 19,
   "metadata": {},
   "outputs": [
    {
     "data": {
      "text/plain": [
       "[1, 1, 4, 2, 1, 1, 0, 0]"
      ]
     },
     "execution_count": 19,
     "metadata": {},
     "output_type": "execute_result"
    }
   ],
   "source": [
    "class Solution:\n",
    "    def dailyTemperatures(self, temperatures: List[int]) -> List[int]:\n",
    "        answer = []\n",
    "\n",
    "        for i in range(len(temperatures)):\n",
    "            for j in range(len(temperatures[i+1:])+1) :\n",
    "                if temperatures[i+j] > temperatures[i] :\n",
    "                    answer.append(j)\n",
    "                    break\n",
    "                if j == len(temperatures[i+1:]) :\n",
    "                    answer.append(0)\n",
    "\n",
    "        return answer\n",
    "\n",
    "\n",
    "temperatures = [30,40,50,60]\n",
    "temperatures = [73,74,75,71,69,72,76,73]\n",
    "\n",
    "Solution().dailyTemperatures(temperatures)"
   ]
  },
  {
   "cell_type": "markdown",
   "metadata": {},
   "source": [
    "### Optized solution with monotonic deacrising stack"
   ]
  },
  {
   "cell_type": "code",
   "execution_count": 6,
   "metadata": {},
   "outputs": [
    {
     "data": {
      "text/plain": [
       "[1, 1, 4, 2, 1, 1, 0, 0]"
      ]
     },
     "execution_count": 6,
     "metadata": {},
     "output_type": "execute_result"
    }
   ],
   "source": [
    "class Solution:\n",
    "    def dailyTemperatures(self, temperatures: List[int]) -> List[int]:\n",
    "        stack = [] #pairs (temperature, index)\n",
    "        answser = [0]*len(temperatures)\n",
    "\n",
    "        for i in range(len(temperatures)) :\n",
    "            while stack != [] and stack[-1][0] < temperatures[i]:\n",
    "                answser[stack[-1][1]] = i - stack[-1][1]\n",
    "                stack.pop()\n",
    "            stack.append((temperatures[i],i))\n",
    "        \n",
    "        return answser\n",
    "\n",
    "\n",
    "\n",
    "temperatures = [30,40,50,60]\n",
    "temperatures = [73,74,75,71,69,72,76,73]\n",
    "\n",
    "Solution().dailyTemperatures(temperatures)"
   ]
  },
  {
   "cell_type": "markdown",
   "metadata": {},
   "source": [
    "### Optimized solution without list of tuple"
   ]
  },
  {
   "cell_type": "code",
   "execution_count": null,
   "metadata": {},
   "outputs": [],
   "source": [
    "class Solution:\n",
    "    def dailyTemperatures(self, temperatures: List[int]) -> List[int]:\n",
    "        res = [0] * len(temperatures)\n",
    "        stack = []  # pair: [temp, index]\n",
    "\n",
    "        for i, t in enumerate(temperatures):\n",
    "            while stack and t > stack[-1][0]:\n",
    "                stackT, stackInd = stack.pop()\n",
    "                res[stackInd] = i - stackInd\n",
    "            stack.append((t, i))\n",
    "        return res"
   ]
  }
 ],
 "metadata": {
  "kernelspec": {
   "display_name": "bootcamp",
   "language": "python",
   "name": "python3"
  },
  "language_info": {
   "codemirror_mode": {
    "name": "ipython",
    "version": 3
   },
   "file_extension": ".py",
   "mimetype": "text/x-python",
   "name": "python",
   "nbconvert_exporter": "python",
   "pygments_lexer": "ipython3",
   "version": "3.10.10"
  }
 },
 "nbformat": 4,
 "nbformat_minor": 2
}
