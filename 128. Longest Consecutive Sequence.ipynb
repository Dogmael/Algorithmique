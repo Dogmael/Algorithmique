{
 "cells": [
  {
   "cell_type": "code",
   "execution_count": 26,
   "metadata": {},
   "outputs": [],
   "source": [
    "nums = [0,3,7,2,5,8,4,6,0,1]\n",
    "nums = [100,4,200,1,3,2]\n",
    "nums = []\n",
    "nums = [1]"
   ]
  },
  {
   "cell_type": "code",
   "execution_count": 27,
   "metadata": {},
   "outputs": [
    {
     "data": {
      "text/plain": [
       "1"
      ]
     },
     "execution_count": 27,
     "metadata": {},
     "output_type": "execute_result"
    }
   ],
   "source": [
    "def longestConsecutive(nums):\n",
    "    nums = set(nums)\n",
    "\n",
    "    max_len = 0\n",
    "\n",
    "    for num in nums :\n",
    "        if num - 1 not in nums : #C'est le début d'une séquence\n",
    "            len = 1\n",
    "            while True :\n",
    "                if num + len - 1  in nums : #On continue notre séquence si le suivant est aussi dans nums\n",
    "                    len += 1\n",
    "                else :\n",
    "                    if len > max_len :\n",
    "                        max_len = len - 1\n",
    "                    break\n",
    "\n",
    "    return max_len\n",
    "\n",
    "longestConsecutive(nums)"
   ]
  }
 ],
 "metadata": {
  "kernelspec": {
   "display_name": "bootcamp",
   "language": "python",
   "name": "python3"
  },
  "language_info": {
   "codemirror_mode": {
    "name": "ipython",
    "version": 3
   },
   "file_extension": ".py",
   "mimetype": "text/x-python",
   "name": "python",
   "nbconvert_exporter": "python",
   "pygments_lexer": "ipython3",
   "version": "3.10.10"
  }
 },
 "nbformat": 4,
 "nbformat_minor": 2
}
